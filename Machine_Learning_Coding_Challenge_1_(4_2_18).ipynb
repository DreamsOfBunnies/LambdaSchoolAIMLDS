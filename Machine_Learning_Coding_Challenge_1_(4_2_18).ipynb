{
  "nbformat": 4,
  "nbformat_minor": 0,
  "metadata": {
    "colab": {
      "name": "Machine Learning Coding Challenge 1 (4/2/18).ipynb",
      "version": "0.3.2",
      "provenance": [],
      "include_colab_link": true
    },
    "kernelspec": {
      "name": "python3",
      "display_name": "Python 3"
    }
  },
  "cells": [
    {
      "cell_type": "markdown",
      "metadata": {
        "id": "view-in-github",
        "colab_type": "text"
      },
      "source": [
        "[View in Colaboratory](https://colab.research.google.com/github/DreamsOfBunnies/LambdaSchoolAIMLDS/blob/master/Machine_Learning_Coding_Challenge_1_(4_2_18).ipynb)"
      ]
    },
    {
      "metadata": {
        "id": "TASE2aSJ3lIc",
        "colab_type": "text"
      },
      "cell_type": "markdown",
      "source": [
        "# Coding challenge\n",
        "\n",
        "A function in Python is of the form:"
      ]
    },
    {
      "metadata": {
        "id": "N-8GKe3X3mb9",
        "colab_type": "code",
        "colab": {}
      },
      "cell_type": "code",
      "source": [
        "def f(x):\n",
        "  return x**2"
      ],
      "execution_count": 0,
      "outputs": []
    },
    {
      "metadata": {
        "id": "e6MDZK7p3X8N",
        "colab_type": "text"
      },
      "cell_type": "markdown",
      "source": [
        "Create python definitions of the following five functions:\n",
        "\n",
        "$x^2$\n",
        "\n",
        "$x^3$\n",
        "\n",
        "$x^3 + x^2 - 5$\n",
        "\n",
        "$sin(x)$\n",
        "\n",
        "$cos(x)$\n",
        "\n"
      ]
    },
    {
      "metadata": {
        "id": "3EptVxnB3vUM",
        "colab_type": "code",
        "colab": {},
        "cellView": "code"
      },
      "cell_type": "code",
      "source": [
        "# LAMBDA SCHOOL\n",
        "#\n",
        "# MACHINE LEARNING\n",
        "#\n",
        "# MIT LICENSE\n",
        "\n",
        "import math\n",
        "\n",
        "def f_2(x):\n",
        "  return x**2\n",
        "\n",
        "def f_3(x):\n",
        "  return x**3\n",
        "\n",
        "def f_4(x):\n",
        "  return x**3 + x**2 - 5\n",
        "\n",
        "def sin_f(x):\n",
        "  return math.sin(x)\n",
        "\n",
        "def cos_f(x):\n",
        "  return math.cos(x)"
      ],
      "execution_count": 0,
      "outputs": []
    },
    {
      "metadata": {
        "id": "Vujamgd84xZ8",
        "colab_type": "text"
      },
      "cell_type": "markdown",
      "source": [
        "Call each of your functions and demonstrate their result:"
      ]
    },
    {
      "metadata": {
        "id": "WUpNee3241Mp",
        "colab_type": "code",
        "colab": {
          "base_uri": "https://localhost:8080/",
          "height": 104
        },
        "outputId": "3b1b84eb-9c3b-4324-a0de-32b837fa92b1"
      },
      "cell_type": "code",
      "source": [
        "print(\"f_2(7) = \", f_2(7))\n",
        "print(\"f_3(7) = \", f_3(7))\n",
        "print(\"f_4(7) = \", f_4(7))\n",
        "print(\"sin_f(7) = \", sin_f(7))\n",
        "print(\"cos_f(7) = \", cos_f(7))"
      ],
      "execution_count": 4,
      "outputs": [
        {
          "output_type": "stream",
          "text": [
            "f_2(7) =  49\n",
            "f_3(7) =  343\n",
            "f_4(7) =  387\n",
            "sin_f(7) =  0.6569865987187891\n",
            "cos_f(7) =  0.7539022543433046\n"
          ],
          "name": "stdout"
        }
      ]
    },
    {
      "metadata": {
        "id": "MbrLehNS4D30",
        "colab_type": "text"
      },
      "cell_type": "markdown",
      "source": [
        "## Bonus challenge\n",
        "\n",
        "`numpy.vectorize` copies a function that takes a single value as argument and returns a function that takes an array of values as argument, calling the single argument version for each value in the array. Implement your own version of `numpy.vectorize`."
      ]
    },
    {
      "metadata": {
        "id": "9hncieec4fG8",
        "colab_type": "code",
        "colab": {
          "base_uri": "https://localhost:8080/",
          "height": 52
        },
        "cellView": "code",
        "outputId": "e4f0ada0-9adc-46e8-8547-f798f5fe68b2"
      },
      "cell_type": "code",
      "source": [
        "import numpy as np\n",
        "\n",
        "dez_nums = [1, 1, 2, 3, 5, 8, 13]\n",
        "\n",
        "def vectorize_this(value):\n",
        "  def vec(values):\n",
        "    return list(map(value, values))\n",
        "  return vec\n",
        "\n",
        "print(vectorize_this(f_2)(dez_nums))\n",
        "\n",
        "print(np.vectorize(f_2)(dez_nums))"
      ],
      "execution_count": 12,
      "outputs": [
        {
          "output_type": "stream",
          "text": [
            "[1, 1, 4, 9, 25, 64, 169]\n",
            "[  1   1   4   9  25  64 169]\n"
          ],
          "name": "stdout"
        }
      ]
    }
  ]
}